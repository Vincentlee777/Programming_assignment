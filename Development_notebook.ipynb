{
  "nbformat": 4,
  "nbformat_minor": 0,
  "metadata": {
    "colab": {
      "provenance": [],
      "authorship_tag": "ABX9TyN6CaacCZU5+sa1dsTOoF9W",
      "include_colab_link": true
    },
    "kernelspec": {
      "name": "python3",
      "display_name": "Python 3"
    },
    "language_info": {
      "name": "python"
    }
  },
  "cells": [
    {
      "cell_type": "markdown",
      "metadata": {
        "id": "view-in-github",
        "colab_type": "text"
      },
      "source": [
        "<a href=\"https://colab.research.google.com/github/Vincentlee777/Programming_assignment/blob/main/Development_notebook.ipynb\" target=\"_parent\"><img src=\"https://colab.research.google.com/assets/colab-badge.svg\" alt=\"Open In Colab\"/></a>"
      ]
    },
    {
      "cell_type": "markdown",
      "source": [
        "# **This is a notebook for my pseudocode and industry standards used**\n"
      ],
      "metadata": {
        "id": "TdkBgBOI_m6a"
      }
    },
    {
      "cell_type": "markdown",
      "source": [
        "# The industry statndards that I used include:\n",
        "\n",
        "\n",
        "\n",
        "1.   The use of comments\n",
        "2.   The correct use of indenting\n",
        "3.   The correct use of spacing \n",
        "4.   The correct use of syntax \n",
        "5.   The correct use of meaningful names\n",
        "\n",
        "\n",
        "\n",
        "\n",
        "\n"
      ],
      "metadata": {
        "id": "zn56PtGx_0U5"
      }
    },
    {
      "cell_type": "markdown",
      "source": [
        "# **All testing was done on the project itself**"
      ],
      "metadata": {
        "id": "-JvbFvjjDjvE"
      }
    },
    {
      "cell_type": "markdown",
      "source": [
        "# ***Resources used:***\n",
        "\n",
        "\n",
        "\n",
        "1.   W3schools.com (This was used to learn more about SQL queries)\n",
        "2.   Stackoverflow.com (This was used to learn about graphs)\n",
        "3.   Github pages/forums (To understand matplotlib and seaborn)\n",
        "4.   The use of the ggole colab notes made in class \n",
        "5.   The use of chatgpt to learn furthur if needed \n"
      ],
      "metadata": {
        "id": "X_cBFJpmAedg"
      }
    },
    {
      "cell_type": "markdown",
      "source": [
        "# ***Email Traffic Over Time: Pseudocode***\n",
        "\n",
        "*   Write sql querie to find all data in message table\n",
        "*   Check for any null values\n",
        "*   Use data to determine format of date\n",
        "*   Convert the information into a dataframe\n",
        "*   Use dataframe to find days,weeks and months for emails\n",
        "*   Write sql querie to find this information\n",
        "*   Convert each one into their own dataframe \n",
        "*   Create a line series graph to display data for months\n",
        "*   Then make analysis based on the information *italicised text*\n"
      ],
      "metadata": {
        "id": "BT9nf_ewBVC3"
      }
    },
    {
      "cell_type": "markdown",
      "source": [
        "# ***Top Senders and Recipients: Pseudocode***\n",
        "\n",
        "\n",
        "*   Write sql querie to convert recipientinfo table into dataframe \n",
        "*   Check for any null values\n",
        "*   Write sql querie for the message_df dataframe to find top senders \n",
        "*   Write sql querie for the reciever_df dataframe to find top recipients\n",
        "*   Then convert both of these into their own dataframes\n",
        "*   Then create two seperate horizontal bar charts for the dataframes\n",
        "*   Then make analysis based on the information \n",
        "\n"
      ],
      "metadata": {
        "id": "xg45mAxyCTfr"
      }
    },
    {
      "cell_type": "markdown",
      "source": [
        "# ***Email Distribution by Recipient Type: Pseudocode***\n",
        "\n",
        "*   Write sql querie to filter all data in recipientinfo table to find values\n",
        "*   Total up all the values needed\n",
        "*   Convert the information into a dataframe\n",
        "*   Use dataframe filter_df to find the totals of the values \n",
        "*   Create a pie chart to display data for the three values\n",
        "*   Then make analysis based on the information "
      ],
      "metadata": {
        "id": "xg_QjxwZCTr_"
      }
    },
    {
      "cell_type": "markdown",
      "source": [
        "# ***Subject Keyword Analysis: Pseudocode***\n",
        "\n",
        "*   Write sql querie to filter all words used in message table\n",
        "*   Total up all the times these words are used \n",
        "*   Convert the information into a dataframe\n",
        "*   Use dataframe keywords_df to display all values \n",
        "*   Create a horizontal bar chart to display the top ten results \n",
        "*   Then make analysis based on the information "
      ],
      "metadata": {
        "id": "Jz9Topm8CTwW"
      }
    },
    {
      "cell_type": "markdown",
      "source": [
        "# ***Internal vs. External Communication: Pseudocode***\n",
        "\n",
        "*   Write sql querie to filter all internal and external communications\n",
        "*   Create a total count for the results \n",
        "*   Convert the information into a dataframe\n",
        "*   Use dataframe communication_df to display all values \n",
        "*   Create a pie chart to display the comparison\n",
        "*   Then make analysis based on the information \n"
      ],
      "metadata": {
        "id": "QkrkmSWoCTzi"
      }
    }
  ]
}